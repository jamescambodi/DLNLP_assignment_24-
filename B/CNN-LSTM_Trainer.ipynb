{
 "cells": [
  {
   "cell_type": "markdown",
   "metadata": {},
   "source": [
    "CNN-LSTM"
   ]
  },
  {
   "cell_type": "code",
   "execution_count": 10,
   "metadata": {},
   "outputs": [],
   "source": [
    "import tensorflow as tf  # Main library for building and training machine learning models\n",
    "\n",
    "from tensorflow.keras.preprocessing.text import Tokenizer  # Tool for converting text to sequences of integers\n",
    "from tensorflow.keras.preprocessing.text import tokenizer_from_json  # Utility to load a tokenizer from a JSON file\n",
    "from tensorflow.keras.preprocessing.sequence import pad_sequences  # Function to make all sequences in a list have the same length by padding them\n",
    "from tensorflow.keras.utils import to_categorical  # Converts a class vector to binary class matrix\n",
    "\n",
    "from tensorflow.keras.models import Sequential  # Model type in Keras that is a linear stack of layers\n",
    "from tensorflow.keras.layers import Embedding, Conv1D, MaxPooling1D, LSTM, Dense  # Layers used to build models\n",
    "from tensorflow.keras.models import load_model  # Function to load a saved Keras model from disk, allowing for model reuse without retraining\n",
    "\n",
    "from tensorflow.keras.metrics import Precision, Recall  # Metrics to measure the accuracy of model predictions\n",
    "from tensorflow.keras import backend as K  # Provides the backend interface\n",
    "\n",
    "import json  # Library for JSON operations, save tokenizer\n",
    "import numpy as np  # Fundamental package for scientific computing with Python\n",
    "from datasets import load_dataset  # Function to load datasets"
   ]
  },
  {
   "cell_type": "code",
   "execution_count": 11,
   "metadata": {},
   "outputs": [],
   "source": [
    "# Load the dataset\n",
    "dataset = load_dataset(\"ag_news\")\n",
    "train_texts = dataset['train']['text']\n",
    "train_labels = dataset['train']['label']\n"
   ]
  },
  {
   "cell_type": "code",
   "execution_count": 12,
   "metadata": {},
   "outputs": [
    {
     "name": "stdout",
     "output_type": "stream",
     "text": [
      "\n",
      "Devices:  [PhysicalDevice(name='/physical_device:CPU:0', device_type='CPU'), PhysicalDevice(name='/physical_device:GPU:0', device_type='GPU')]\n",
      "GPU details:  {'device_name': 'METAL'}\n"
     ]
    }
   ],
   "source": [
    "devices = tf.config.list_physical_devices()\n",
    "print(\"\\nDevices: \", devices)\n",
    "\n",
    "gpus = tf.config.list_physical_devices('GPU')\n",
    "if gpus:\n",
    "  details = tf.config.experimental.get_device_details(gpus[0])\n",
    "  print(\"GPU details: \", details)"
   ]
  },
  {
   "cell_type": "code",
   "execution_count": 13,
   "metadata": {},
   "outputs": [],
   "source": [
    "tokenizer = Tokenizer(num_words=10000)\n",
    "tokenizer.fit_on_texts(train_texts)\n",
    "sequences = tokenizer.texts_to_sequences(train_texts)\n",
    "#max_length = max(len(x) for x in sequences)  # or use a fixed length\n",
    "max_length = 180\n",
    "padded_sequences = pad_sequences(sequences, maxlen=max_length, padding='post')\n",
    "\n",
    "# Prepare labels for training\n",
    "labels = np.array(train_labels)\n",
    "\n",
    "# Assuming `augmented_labels` \n",
    "# is a list or numpy array of integer class labels\n",
    "one_hot_labels = to_categorical(train_labels, num_classes=4)\n"
   ]
  },
  {
   "cell_type": "code",
   "execution_count": 14,
   "metadata": {},
   "outputs": [
    {
     "name": "stdout",
     "output_type": "stream",
     "text": [
      "(120000, 180)\n",
      "(120000, 4)\n"
     ]
    }
   ],
   "source": [
    "print(padded_sequences.shape)\n",
    "print(one_hot_labels.shape)"
   ]
  },
  {
   "cell_type": "code",
   "execution_count": 15,
   "metadata": {},
   "outputs": [],
   "source": [
    "class F1Score(tf.keras.metrics.Metric):\n",
    "    def __init__(self, name='f1_score', **kwargs):\n",
    "        super(F1Score, self).__init__(name=name, **kwargs)\n",
    "        self.precision = tf.keras.metrics.Precision()\n",
    "        self.recall = tf.keras.metrics.Recall()\n",
    "\n",
    "    def update_state(self, y_true, y_pred, sample_weight=None):\n",
    "        self.precision.update_state(y_true, y_pred, sample_weight)\n",
    "        self.recall.update_state(y_true, y_pred, sample_weight)\n",
    "\n",
    "    def result(self):\n",
    "        p = self.precision.result()\n",
    "        r = self.recall.result()\n",
    "        return 2 * ((p * r) / (p + r + K.epsilon()))\n",
    "\n",
    "    def reset_states(self):\n",
    "        self.precision.reset_states()\n",
    "        self.recall.reset_states()"
   ]
  },
  {
   "cell_type": "code",
   "execution_count": 16,
   "metadata": {},
   "outputs": [
    {
     "name": "stdout",
     "output_type": "stream",
     "text": [
      "Model: \"sequential_1\"\n",
      "_________________________________________________________________\n",
      " Layer (type)                Output Shape              Param #   \n",
      "=================================================================\n",
      " embedding_1 (Embedding)     (None, 180, 64)           640000    \n",
      "                                                                 \n",
      " conv1d_1 (Conv1D)           (None, 178, 32)           6176      \n",
      "                                                                 \n",
      " max_pooling1d_1 (MaxPooling  (None, 89, 32)           0         \n",
      " 1D)                                                             \n",
      "                                                                 \n",
      " lstm_1 (LSTM)               (None, 64)                24832     \n",
      "                                                                 \n",
      " dense_1 (Dense)             (None, 4)                 260       \n",
      "                                                                 \n",
      "=================================================================\n",
      "Total params: 671,268\n",
      "Trainable params: 671,268\n",
      "Non-trainable params: 0\n",
      "_________________________________________________________________\n"
     ]
    }
   ],
   "source": [
    "# Define model (as previously setup)\n",
    "model = Sequential([\n",
    "    Embedding(input_dim=10000, output_dim=64, input_length=max_length),\n",
    "    Conv1D(filters=32, kernel_size=3, activation='relu'),\n",
    "    MaxPooling1D(pool_size=2),\n",
    "    LSTM(64),\n",
    "    Dense(4, activation='softmax')\n",
    "])\n",
    "\n",
    "\n",
    "model.compile(optimizer='adam',\n",
    "              loss='categorical_crossentropy',\n",
    "              metrics=['accuracy', F1Score(), Precision(), Recall()])\n",
    "\n",
    "model.summary()"
   ]
  },
  {
   "cell_type": "code",
   "execution_count": 18,
   "metadata": {},
   "outputs": [
    {
     "name": "stdout",
     "output_type": "stream",
     "text": [
      "Epoch 1/10\n",
      "399/399 [==============================] - 16s 39ms/step - loss: 0.2969 - accuracy: 0.9076 - f1_score: 0.9081 - precision_3: 0.9193 - recall_3: 0.8971 - val_loss: 0.3162 - val_accuracy: 0.8951 - val_f1_score: 0.8954 - val_precision_3: 0.9087 - val_recall_3: 0.8824\n",
      "Epoch 2/10\n",
      "399/399 [==============================] - 15s 38ms/step - loss: 0.2481 - accuracy: 0.9238 - f1_score: 0.9244 - precision_3: 0.9324 - recall_3: 0.9164 - val_loss: 0.3191 - val_accuracy: 0.8953 - val_f1_score: 0.8952 - val_precision_3: 0.9071 - val_recall_3: 0.8836\n",
      "Epoch 3/10\n",
      "399/399 [==============================] - 15s 38ms/step - loss: 0.2183 - accuracy: 0.9345 - f1_score: 0.9346 - precision_3: 0.9401 - recall_3: 0.9290 - val_loss: 0.3138 - val_accuracy: 0.8937 - val_f1_score: 0.8943 - val_precision_3: 0.9028 - val_recall_3: 0.8859\n",
      "Epoch 4/10\n",
      "399/399 [==============================] - 15s 38ms/step - loss: 0.1896 - accuracy: 0.9449 - f1_score: 0.9449 - precision_3: 0.9484 - recall_3: 0.9414 - val_loss: 0.3326 - val_accuracy: 0.8966 - val_f1_score: 0.8972 - val_precision_3: 0.9014 - val_recall_3: 0.8931\n",
      "Epoch 5/10\n",
      "399/399 [==============================] - 15s 38ms/step - loss: 0.1639 - accuracy: 0.9531 - f1_score: 0.9532 - precision_3: 0.9556 - recall_3: 0.9508 - val_loss: 0.3429 - val_accuracy: 0.8947 - val_f1_score: 0.8953 - val_precision_3: 0.8992 - val_recall_3: 0.8914\n",
      "Epoch 6/10\n",
      "399/399 [==============================] - 15s 39ms/step - loss: 0.1392 - accuracy: 0.9605 - f1_score: 0.9606 - precision_3: 0.9623 - recall_3: 0.9589 - val_loss: 0.3742 - val_accuracy: 0.8944 - val_f1_score: 0.8946 - val_precision_3: 0.8974 - val_recall_3: 0.8919\n",
      "Epoch 7/10\n",
      "399/399 [==============================] - 17s 42ms/step - loss: 0.1144 - accuracy: 0.9680 - f1_score: 0.9681 - precision_3: 0.9692 - recall_3: 0.9671 - val_loss: 0.3938 - val_accuracy: 0.8901 - val_f1_score: 0.8906 - val_precision_3: 0.8932 - val_recall_3: 0.8879\n",
      "Epoch 8/10\n",
      "399/399 [==============================] - 17s 44ms/step - loss: 0.0980 - accuracy: 0.9735 - f1_score: 0.9737 - precision_3: 0.9747 - recall_3: 0.9726 - val_loss: 0.4195 - val_accuracy: 0.8888 - val_f1_score: 0.8894 - val_precision_3: 0.8922 - val_recall_3: 0.8867\n",
      "Epoch 9/10\n",
      "399/399 [==============================] - 16s 40ms/step - loss: 0.0851 - accuracy: 0.9780 - f1_score: 0.9781 - precision_3: 0.9788 - recall_3: 0.9774 - val_loss: 0.4468 - val_accuracy: 0.8854 - val_f1_score: 0.8854 - val_precision_3: 0.8873 - val_recall_3: 0.8835\n",
      "Epoch 10/10\n",
      "399/399 [==============================] - 15s 38ms/step - loss: 0.0739 - accuracy: 0.9815 - f1_score: 0.9817 - precision_3: 0.9823 - recall_3: 0.9811 - val_loss: 0.4450 - val_accuracy: 0.8874 - val_f1_score: 0.8876 - val_precision_3: 0.8902 - val_recall_3: 0.8850\n"
     ]
    }
   ],
   "source": [
    "history = model.fit(padded_sequences,one_hot_labels, epochs=10, batch_size=256, validation_split=0.15, shuffle=True)"
   ]
  },
  {
   "cell_type": "code",
   "execution_count": null,
   "metadata": {},
   "outputs": [
    {
     "data": {
      "image/png": "[encoded data removed]",
      "text/plain": [
       "<Figure size 1200x600 with 2 Axes>"
      ]
     },
     "metadata": {},
     "output_type": "display_data"
    }
   ],
   "source": [
    "import matplotlib.pyplot as plt\n",
    "\n",
    "# Assuming `history` is the output from the model.fit() method\n",
    "# Plot training & validation accuracy values\n",
    "plt.figure(figsize=(12, 6))\n",
    "plt.subplot(1, 2, 1)\n",
    "plt.plot(history.history['accuracy'])\n",
    "plt.plot(history.history['val_accuracy'])\n",
    "plt.title('Model accuracy')\n",
    "plt.ylabel('Accuracy')\n",
    "plt.xlabel('Epoch')\n",
    "plt.legend(['Train', 'Validation'], loc='upper left')\n",
    "\n",
    "# Plot training & validation loss values\n",
    "plt.subplot(1, 2, 2)\n",
    "plt.plot(history.history['loss'])\n",
    "plt.plot(history.history['val_loss'])\n",
    "plt.title('Model loss')\n",
    "plt.ylabel('Loss')\n",
    "plt.xlabel('Epoch')\n",
    "plt.legend(['Train', 'Validation'], loc='upper left')\n",
    "\n",
    "plt.show()"
   ]
  },
  {
   "cell_type": "code",
   "execution_count": null,
   "metadata": {},
   "outputs": [],
   "source": [
    "#Save the model\n",
    "model_save_path = \"BASE_CNN-LSTM_classifier_model.h5\"\n",
    "model.save(model_save_path) \n",
    "\n",
    "# Serialize tokenizer to a JSON string\n",
    "tokenizer_json = tokenizer.to_json()\n",
    "\n",
    "# Save the tokenizer JSON string to a file\n",
    "with open(\"tokenizer_BASE.json\", 'w', encoding='utf-8') as f:\n",
    "    f.write(json.dumps(tokenizer_json, ensure_ascii=False))"
   ]
  },
  {
   "cell_type": "code",
   "execution_count": null,
   "metadata": {},
   "outputs": [],
   "source": [
    "BASE_CNN_LSTM = load_model(\"BASE_CNN-LSTM_classifier_model.h5\", custom_objects={'F1Score': F1Score})  # Load the model\n",
    "\n",
    "# Load tokenizer from JSON file\n",
    "with open(\"tokenizer_BASE.json\", 'r', encoding='utf-8') as f:\n",
    "    data = json.load(f)\n",
    "    tokenizer = tokenizer_from_json(data)"
   ]
  },
  {
   "cell_type": "code",
   "execution_count": null,
   "metadata": {},
   "outputs": [
    {
     "name": "stdout",
     "output_type": "stream",
     "text": [
      "180\n"
     ]
    }
   ],
   "source": [
    "print(max_length)"
   ]
  },
  {
   "cell_type": "code",
   "execution_count": null,
   "metadata": {},
   "outputs": [
    {
     "name": "stderr",
     "output_type": "stream",
     "text": [
      "2024-05-10 19:22:08.241520: I tensorflow/core/grappler/optimizers/custom_graph_optimizer_registry.cc:113] Plugin optimizer for device_type GPU is enabled.\n",
      "2024-05-10 19:22:08.422737: I tensorflow/core/grappler/optimizers/custom_graph_optimizer_registry.cc:113] Plugin optimizer for device_type GPU is enabled.\n"
     ]
    },
    {
     "name": "stdout",
     "output_type": "stream",
     "text": [
      "238/238 [==============================] - 9s 33ms/step - loss: 0.5589 - accuracy: 0.8926 - f1_score: 0.8926 - precision_3: 0.8937 - recall_3: 0.8914\n",
      "Test accuracy: 0.8926315903663635, Test F1 Score: 0.892562985420227, Precision: 0.8936815857887268, Recall: 0.8914473652839661\n"
     ]
    }
   ],
   "source": [
    "# Example of preparing test data (replace 'test_texts' with dataset[\"test\"] data)\n",
    "test_texts = dataset['test']['text']\n",
    "test_labels = dataset['test']['label']\n",
    "\n",
    "test_sequences = tokenizer.texts_to_sequences(test_texts)\n",
    "test_padded_sequences = pad_sequences(test_sequences, maxlen=max_length, padding='post')\n",
    "\n",
    "test_labels = np.array(test_labels)\n",
    "test_one_hot_labels = to_categorical(test_labels, num_classes=4)\n",
    "\n",
    "# Evaluate the model\n",
    "loss, accuracy, f1, precision, recall = BASE_CNN_LSTM.evaluate(test_padded_sequences, test_one_hot_labels)\n",
    "print(f'Test accuracy: {accuracy}, Test F1 Score: {f1}, Precision: {precision}, Recall: {recall}')"
   ]
  }
 ],
 "metadata": {
  "kernelspec": {
   "display_name": "amls2",
   "language": "python",
   "name": "python3"
  },
  "language_info": {
   "codemirror_mode": {
    "name": "ipython",
    "version": 3
   },
   "file_extension": ".py",
   "mimetype": "text/x-python",
   "name": "python",
   "nbconvert_exporter": "python",
   "pygments_lexer": "ipython3",
   "version": "3.8.18"
  }
 },
 "nbformat": 4,
 "nbformat_minor": 2
}
