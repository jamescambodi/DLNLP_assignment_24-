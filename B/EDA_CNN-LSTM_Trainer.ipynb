{
 "cells": [
  {
   "cell_type": "markdown",
   "metadata": {},
   "source": [
    "CNN-LSTM + EDA Data Augmentation"
   ]
  },
  {
   "cell_type": "markdown",
   "metadata": {},
   "source": [
    "Implement EDA Functions"
   ]
  },
  {
   "cell_type": "code",
   "execution_count": 49,
   "metadata": {},
   "outputs": [],
   "source": [
    "import tensorflow as tf\n",
    "from tensorflow.keras.preprocessing.text import Tokenizer\n",
    "from tensorflow.keras.preprocessing.sequence import pad_sequences\n",
    "from tensorflow.keras.utils import to_categorical\n",
    "from tensorflow.keras.models import Sequential\n",
    "from tensorflow.keras.layers import Embedding, Conv1D, MaxPooling1D, LSTM, Dense\n",
    "from tensorflow.keras.preprocessing.text import tokenizer_from_json\n",
    "from tensorflow.keras.models import load_model\n",
    "import json\n",
    "import nltk\n",
    "from nltk.corpus import wordnet\n",
    "import random\n",
    "from tensorflow.keras.metrics import Precision, Recall\n",
    "from tensorflow.keras import backend as K\n",
    "from datasets import load_dataset\n",
    "import numpy as np\n"
   ]
  },
  {
   "cell_type": "code",
   "execution_count": 50,
   "metadata": {},
   "outputs": [
    {
     "name": "stderr",
     "output_type": "stream",
     "text": [
      "[nltk_data] Downloading package wordnet to /Users/jamesso/nltk_data...\n",
      "[nltk_data]   Package wordnet is already up-to-date!\n",
      "[nltk_data] Downloading package omw-1.4 to /Users/jamesso/nltk_data...\n",
      "[nltk_data]   Package omw-1.4 is already up-to-date!\n"
     ]
    }
   ],
   "source": [
    "# Ensure that necessary resources are downloaded\n",
    "nltk.download('wordnet')\n",
    "nltk.download('omw-1.4')\n",
    "\n",
    "def synonym_replacement(sentence, n):\n",
    "    words = sentence.split()\n",
    "    new_words = words.copy()\n",
    "    random_word_list = list(set([word for word in words if word.isalnum()]))\n",
    "    random.shuffle(random_word_list)\n",
    "    num_replaced = 0\n",
    "    for random_word in random_word_list:\n",
    "        synonyms = get_synonyms(random_word)\n",
    "        if len(synonyms) > 0:\n",
    "            synonym = random.choice(list(synonyms))\n",
    "            new_words = [synonym if word == random_word else word for word in new_words]\n",
    "            num_replaced += 1\n",
    "        if num_replaced >= n:\n",
    "            break\n",
    "\n",
    "    return ' '.join(new_words)\n",
    "\n",
    "def random_insertion(sentence, n):\n",
    "    words = sentence.split()\n",
    "    for _ in range(n):\n",
    "        new_synonym = get_synonyms(random.choice(words))\n",
    "        if new_synonym:\n",
    "            words.insert(random.randint(0, len(words)), random.choice(list(new_synonym)))\n",
    "    return ' '.join(words)\n",
    "\n",
    "def random_swap(sentence, n):\n",
    "    words = sentence.split()\n",
    "    length = len(words)\n",
    "    for _ in range(n):\n",
    "        idx1, idx2 = random.randint(0, length - 1), random.randint(0, length - 1)\n",
    "        words[idx1], words[idx2] = words[idx2], words[idx1]\n",
    "    return ' '.join(words)\n",
    "\n",
    "def random_deletion(sentence, p):\n",
    "    words = sentence.split()\n",
    "    if len(words) == 1:\n",
    "        return sentence\n",
    "    new_words = []\n",
    "    for word in words:\n",
    "        if random.uniform(0, 1) > p:\n",
    "            new_words.append(word)\n",
    "    if not new_words:\n",
    "        return random.choice(words)\n",
    "    return ' '.join(new_words)\n",
    "\n",
    "def get_synonyms(word):\n",
    "    synonyms = set()\n",
    "    for syn in wordnet.synsets(word):\n",
    "        for lemma in syn.lemmas():\n",
    "            synonym = lemma.name().replace('_', ' ').replace('-', ' ')\n",
    "            synonyms.add(synonym.lower()) if synonym != word else synonyms\n",
    "    return synonyms\n"
   ]
  },
  {
   "cell_type": "markdown",
   "metadata": {},
   "source": [
    "Load and Augment the Dataset"
   ]
  },
  {
   "cell_type": "code",
   "execution_count": 51,
   "metadata": {},
   "outputs": [],
   "source": [
    "# Load the dataset\n",
    "dataset = load_dataset(\"ag_news\")\n",
    "train_texts = dataset['train']['text']\n",
    "train_labels = dataset['train']['label']\n",
    "augmented_texts = []\n",
    "augmented_labels = []\n",
    "\n",
    "# Augment data and duplicate labels accordingly\n",
    "for text, label in zip(train_texts, train_labels):\n",
    "    # Original text and label\n",
    "    augmented_texts.append(text)\n",
    "    augmented_labels.append(label)\n",
    "    \n",
    "    # Synonym replacement\n",
    "    augmented_texts.append(synonym_replacement(text, 2))\n",
    "    augmented_labels.append(label)\n",
    "    \n",
    "    # Random insertion\n",
    "    augmented_texts.append(random_insertion(text, 2))\n",
    "    augmented_labels.append(label)\n",
    "    \n",
    "    # Random swap\n",
    "    augmented_texts.append(random_swap(text, 2))\n",
    "    augmented_labels.append(label)\n",
    "    \n",
    "    # Random deletion\n",
    "    augmented_texts.append(random_deletion(text, 0.25))\n",
    "    augmented_labels.append(label)\n",
    "\n",
    "# Now, augmented_texts and augmented_labels are aligned and augmented"
   ]
  },
  {
   "cell_type": "markdown",
   "metadata": {},
   "source": [
    "Preprocess and Tokenize"
   ]
  },
  {
   "cell_type": "code",
   "execution_count": 52,
   "metadata": {},
   "outputs": [
    {
     "name": "stdout",
     "output_type": "stream",
     "text": [
      "\n",
      "Devices:  [PhysicalDevice(name='/physical_device:CPU:0', device_type='CPU'), PhysicalDevice(name='/physical_device:GPU:0', device_type='GPU')]\n",
      "GPU details:  {'device_name': 'METAL'}\n"
     ]
    }
   ],
   "source": [
    "devices = tf.config.list_physical_devices()\n",
    "print(\"\\nDevices: \", devices)\n",
    "\n",
    "gpus = tf.config.list_physical_devices('GPU')\n",
    "if gpus:\n",
    "  details = tf.config.experimental.get_device_details(gpus[0])\n",
    "  print(\"GPU details: \", details)"
   ]
  },
  {
   "cell_type": "code",
   "execution_count": 53,
   "metadata": {},
   "outputs": [],
   "source": [
    "tokenizer = Tokenizer(num_words=10000)\n",
    "tokenizer.fit_on_texts(augmented_texts)\n",
    "sequences = tokenizer.texts_to_sequences(augmented_texts)\n",
    "#max_length = max(len(x) for x in sequences)  # or use a fixed length\n",
    "max_length = 180\n",
    "padded_sequences = pad_sequences(sequences, maxlen=max_length, padding='post')\n",
    "\n",
    "# Prepare labels for training\n",
    "labels = np.array(augmented_labels)\n",
    "\n",
    "# Assuming `augmented_labels` is a list or numpy array of integer class labels\n",
    "one_hot_labels = to_categorical(augmented_labels, num_classes=4)\n"
   ]
  },
  {
   "cell_type": "code",
   "execution_count": 54,
   "metadata": {},
   "outputs": [
    {
     "name": "stdout",
     "output_type": "stream",
     "text": [
      "(600000, 180)\n",
      "(600000, 4)\n"
     ]
    }
   ],
   "source": [
    "print(padded_sequences.shape)\n",
    "print(one_hot_labels.shape)"
   ]
  },
  {
   "cell_type": "markdown",
   "metadata": {},
   "source": [
    "Model Training"
   ]
  },
  {
   "cell_type": "code",
   "execution_count": 60,
   "metadata": {},
   "outputs": [],
   "source": [
    "class F1Score(tf.keras.metrics.Metric):\n",
    "    def __init__(self, name='f1_score', **kwargs):\n",
    "        super(F1Score, self).__init__(name=name, **kwargs)\n",
    "        self.precision = tf.keras.metrics.Precision()\n",
    "        self.recall = tf.keras.metrics.Recall()\n",
    "\n",
    "    def update_state(self, y_true, y_pred, sample_weight=None):\n",
    "        self.precision.update_state(y_true, y_pred, sample_weight)\n",
    "        self.recall.update_state(y_true, y_pred, sample_weight)\n",
    "\n",
    "    def result(self):\n",
    "        p = self.precision.result()\n",
    "        r = self.recall.result()\n",
    "        return 2 * ((p * r) / (p + r + K.epsilon()))\n",
    "\n",
    "    def reset_states(self):\n",
    "        self.precision.reset_states()\n",
    "        self.recall.reset_states()"
   ]
  },
  {
   "cell_type": "code",
   "execution_count": 63,
   "metadata": {},
   "outputs": [
    {
     "name": "stdout",
     "output_type": "stream",
     "text": [
      "Model: \"sequential_6\"\n",
      "_________________________________________________________________\n",
      " Layer (type)                Output Shape              Param #   \n",
      "=================================================================\n",
      " embedding_6 (Embedding)     (None, 180, 64)           640000    \n",
      "                                                                 \n",
      " conv1d_6 (Conv1D)           (None, 178, 32)           6176      \n",
      "                                                                 \n",
      " max_pooling1d_6 (MaxPooling  (None, 89, 32)           0         \n",
      " 1D)                                                             \n",
      "                                                                 \n",
      " lstm_6 (LSTM)               (None, 64)                24832     \n",
      "                                                                 \n",
      " dense_6 (Dense)             (None, 4)                 260       \n",
      "                                                                 \n",
      "=================================================================\n",
      "Total params: 671,268\n",
      "Trainable params: 671,268\n",
      "Non-trainable params: 0\n",
      "_________________________________________________________________\n"
     ]
    }
   ],
   "source": [
    "# Define model (as previously setup)\n",
    "model = Sequential([\n",
    "    Embedding(input_dim=10000, output_dim=64, input_length=max_length),\n",
    "    Conv1D(filters=32, kernel_size=3, activation='relu'),\n",
    "    MaxPooling1D(pool_size=2),\n",
    "    LSTM(64),\n",
    "    Dense(4, activation='softmax')\n",
    "])\n",
    "\n",
    "model.compile(optimizer='adam',\n",
    "              loss='categorical_crossentropy',\n",
    "              metrics=['accuracy', F1Score(), Precision(), Recall()])\n",
    "\n",
    "model.summary()"
   ]
  },
  {
   "cell_type": "code",
   "execution_count": 97,
   "metadata": {},
   "outputs": [
    {
     "name": "stdout",
     "output_type": "stream",
     "text": [
      "Epoch 1/10\n",
      "1993/1993 [==============================] - 85s 43ms/step - loss: 0.0058 - accuracy: 0.9981 - f1_score: 0.9981 - precision_5: 0.9982 - recall_5: 0.9981 - val_loss: 0.8843 - val_accuracy: 0.8846 - val_f1_score: 0.8848 - val_precision_5: 0.8852 - val_recall_5: 0.8843\n",
      "Epoch 2/10\n",
      "1993/1993 [==============================] - 85s 43ms/step - loss: 0.0028 - accuracy: 0.9991 - f1_score: 0.9991 - precision_5: 0.9991 - recall_5: 0.9991 - val_loss: 1.0153 - val_accuracy: 0.8779 - val_f1_score: 0.8781 - val_precision_5: 0.8787 - val_recall_5: 0.8776\n",
      "Epoch 3/10\n",
      "1993/1993 [==============================] - 85s 42ms/step - loss: 0.0029 - accuracy: 0.9991 - f1_score: 0.9991 - precision_5: 0.9991 - recall_5: 0.9991 - val_loss: 0.9332 - val_accuracy: 0.8830 - val_f1_score: 0.8831 - val_precision_5: 0.8836 - val_recall_5: 0.8827\n",
      "Epoch 4/10\n",
      "1993/1993 [==============================] - 85s 43ms/step - loss: 0.0025 - accuracy: 0.9991 - f1_score: 0.9992 - precision_5: 0.9992 - recall_5: 0.9991 - val_loss: 0.9340 - val_accuracy: 0.8833 - val_f1_score: 0.8835 - val_precision_5: 0.8839 - val_recall_5: 0.8831\n",
      "Epoch 5/10\n",
      "1993/1993 [==============================] - 90s 45ms/step - loss: 0.0026 - accuracy: 0.9992 - f1_score: 0.9992 - precision_5: 0.9992 - recall_5: 0.9992 - val_loss: 0.9056 - val_accuracy: 0.8838 - val_f1_score: 0.8839 - val_precision_5: 0.8843 - val_recall_5: 0.8835\n",
      "Epoch 6/10\n",
      "1993/1993 [==============================] - 86s 43ms/step - loss: 0.0024 - accuracy: 0.9992 - f1_score: 0.9992 - precision_5: 0.9992 - recall_5: 0.9992 - val_loss: 0.8762 - val_accuracy: 0.8846 - val_f1_score: 0.8846 - val_precision_5: 0.8849 - val_recall_5: 0.8842\n",
      "Epoch 7/10\n",
      "1993/1993 [==============================] - 87s 43ms/step - loss: 0.0022 - accuracy: 0.9993 - f1_score: 0.9993 - precision_5: 0.9993 - recall_5: 0.9993 - val_loss: 0.9194 - val_accuracy: 0.8783 - val_f1_score: 0.8783 - val_precision_5: 0.8788 - val_recall_5: 0.8778\n",
      "Epoch 8/10\n",
      "1993/1993 [==============================] - 87s 44ms/step - loss: 0.0022 - accuracy: 0.9994 - f1_score: 0.9994 - precision_5: 0.9994 - recall_5: 0.9994 - val_loss: 0.9147 - val_accuracy: 0.8797 - val_f1_score: 0.8798 - val_precision_5: 0.8800 - val_recall_5: 0.8795\n",
      "Epoch 9/10\n",
      "1993/1993 [==============================] - 86s 43ms/step - loss: 0.0021 - accuracy: 0.9993 - f1_score: 0.9993 - precision_5: 0.9993 - recall_5: 0.9993 - val_loss: 0.9128 - val_accuracy: 0.8826 - val_f1_score: 0.8827 - val_precision_5: 0.8830 - val_recall_5: 0.8824\n",
      "Epoch 10/10\n",
      "1993/1993 [==============================] - 86s 43ms/step - loss: 0.0021 - accuracy: 0.9993 - f1_score: 0.9993 - precision_5: 0.9993 - recall_5: 0.9993 - val_loss: 0.9254 - val_accuracy: 0.8823 - val_f1_score: 0.8823 - val_precision_5: 0.8826 - val_recall_5: 0.8820\n"
     ]
    }
   ],
   "source": [
    "history = model.fit(padded_sequences,one_hot_labels, epochs=10, batch_size=256, validation_split=0.15,shuffle=True)"
   ]
  },
  {
   "cell_type": "code",
   "execution_count": 98,
   "metadata": {},
   "outputs": [
    {
     "data": {
      "image/png": "[encoded data removed]",
      "text/plain": [
       "<Figure size 1200x600 with 2 Axes>"
      ]
     },
     "metadata": {},
     "output_type": "display_data"
    }
   ],
   "source": [
    "import matplotlib.pyplot as plt\n",
    "\n",
    "# Assuming `history` is the output from the model.fit() method\n",
    "# Plot training & validation accuracy values\n",
    "plt.figure(figsize=(12, 6))\n",
    "plt.subplot(1, 2, 1)\n",
    "plt.plot(history.history['accuracy'])\n",
    "plt.plot(history.history['val_accuracy'])\n",
    "plt.title('Model accuracy')\n",
    "plt.ylabel('Accuracy')\n",
    "plt.xlabel('Epoch')\n",
    "plt.legend(['Train', 'Validation'], loc='upper left')\n",
    "\n",
    "# Plot training & validation loss values\n",
    "plt.subplot(1, 2, 2)\n",
    "plt.plot(history.history['loss'])\n",
    "plt.plot(history.history['val_loss'])\n",
    "plt.title('Model loss')\n",
    "plt.ylabel('Loss')\n",
    "plt.xlabel('Epoch')\n",
    "plt.legend(['Train', 'Validation'], loc='upper left')\n",
    "\n",
    "plt.show()"
   ]
  },
  {
   "cell_type": "code",
   "execution_count": 99,
   "metadata": {},
   "outputs": [],
   "source": [
    "model_save_path = \"EDA_CNN-LSTM_classifier_model.h5\"\n",
    "model.save(model_save_path) \n",
    "\n",
    "# Serialize tokenizer to a JSON string\n",
    "tokenizer_json = tokenizer.to_json()\n",
    "\n",
    "# Save the tokenizer JSON string to a file\n",
    "with open(\"tokenizer_EDA.json\", 'w', encoding='utf-8') as f:\n",
    "    f.write(json.dumps(tokenizer_json, ensure_ascii=False))"
   ]
  },
  {
   "cell_type": "code",
   "execution_count": 100,
   "metadata": {},
   "outputs": [],
   "source": [
    "EDA_CNN_LSTM = load_model(\"EDA_CNN-LSTM_classifier_model.h5\", custom_objects={'F1Score': F1Score})  # Load the model\n",
    "\n",
    "# Load tokenizer from JSON file\n",
    "with open(\"tokenizer_EDA.json\", 'r', encoding='utf-8') as f:\n",
    "    data = json.load(f)\n",
    "    tokenizer = tokenizer_from_json(data)"
   ]
  },
  {
   "cell_type": "code",
   "execution_count": 84,
   "metadata": {},
   "outputs": [
    {
     "name": "stdout",
     "output_type": "stream",
     "text": [
      "Dataset({\n",
      "    features: ['text', 'label'],\n",
      "    num_rows: 7600\n",
      "})\n",
      "180\n"
     ]
    }
   ],
   "source": [
    "print(dataset['test'])\n",
    "print(max_length)"
   ]
  },
  {
   "cell_type": "code",
   "execution_count": 101,
   "metadata": {},
   "outputs": [
    {
     "name": "stderr",
     "output_type": "stream",
     "text": [
      "2024-05-10 20:06:06.867447: I tensorflow/core/grappler/optimizers/custom_graph_optimizer_registry.cc:113] Plugin optimizer for device_type GPU is enabled.\n",
      "2024-05-10 20:06:07.067266: I tensorflow/core/grappler/optimizers/custom_graph_optimizer_registry.cc:113] Plugin optimizer for device_type GPU is enabled.\n"
     ]
    },
    {
     "name": "stdout",
     "output_type": "stream",
     "text": [
      "238/238 [==============================] - 8s 28ms/step - loss: 0.8661 - accuracy: 0.8934 - f1_score: 0.8934 - precision_5: 0.8936 - recall_5: 0.8932\n",
      "Test accuracy: 0.8934210538864136, Test F1 Score: 0.8933929204940796, Precision: 0.8936282396316528, Recall: 0.8931578993797302\n"
     ]
    }
   ],
   "source": [
    "# Example of preparing test data (replace 'test_texts' with dataset[\"test\"] data)\n",
    "test_texts = dataset['test']['text']\n",
    "test_labels = dataset['test']['label']\n",
    "\n",
    "test_sequences = tokenizer.texts_to_sequences(test_texts)\n",
    "test_padded_sequences = pad_sequences(test_sequences, maxlen=max_length, padding='post')\n",
    "\n",
    "test_labels = np.array(test_labels)\n",
    "test_one_hot_labels = to_categorical(test_labels, num_classes=4)\n",
    "\n",
    "# Evaluate the model\n",
    "loss, accuracy, f1, precision, recall = EDA_CNN_LSTM.evaluate(test_padded_sequences, test_one_hot_labels)\n",
    "print(f'Test accuracy: {accuracy}, Test F1 Score: {f1}, Precision: {precision}, Recall: {recall}')"
   ]
  }
 ],
 "metadata": {
  "kernelspec": {
   "display_name": "amls2",
   "language": "python",
   "name": "python3"
  },
  "language_info": {
   "codemirror_mode": {
    "name": "ipython",
    "version": 3
   },
   "file_extension": ".py",
   "mimetype": "text/x-python",
   "name": "python",
   "nbconvert_exporter": "python",
   "pygments_lexer": "ipython3",
   "version": "3.8.18"
  }
 },
 "nbformat": 4,
 "nbformat_minor": 2
}
